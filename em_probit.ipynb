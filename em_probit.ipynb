{
 "cells": [
  {
   "cell_type": "markdown",
   "metadata": {},
   "source": [
    "# HW2 - EM Algorithm for Probit Regression\n",
    "###### *Bayesian Models for Machine Learning*  \n",
    "Manuel Rueda (mr3523)"
   ]
  },
  {
   "cell_type": "code",
   "execution_count": 1,
   "metadata": {
    "collapsed": false
   },
   "outputs": [],
   "source": [
    "## Libraries and setup.\n",
    "import numpy as np\n",
    "import pandas as pd\n",
    "import matplotlib.pyplot as plt\n",
    "import matplotlib\n",
    "import scipy.io as sio\n",
    "from sklearn.metrics import confusion_matrix\n",
    "from scipy.stats import norm\n",
    "from tqdm import tqdm\n",
    "import seaborn as sns\n",
    "\n",
    "sns.set_style('whitegrid')\n",
    "%matplotlib inline\n",
    "plt.rcParams['figure.figsize'] = (14.0, 8.0)"
   ]
  },
  {
   "cell_type": "code",
   "execution_count": 2,
   "metadata": {
    "collapsed": true
   },
   "outputs": [],
   "source": [
    "## Load data.\n",
    "data = sio.loadmat('data/mnist_mat.mat')\n",
    "ytrain = data['ytrain']\n",
    "Xtrain = data['Xtrain']\n",
    "ytest = data['ytest']\n",
    "Xtest = data['Xtest']"
   ]
  },
  {
   "cell_type": "markdown",
   "metadata": {},
   "source": [
    "### a) Implement the EM algorithm."
   ]
  },
  {
   "cell_type": "code",
   "execution_count": 3,
   "metadata": {
    "collapsed": false
   },
   "outputs": [],
   "source": [
    "## Set parameters.\n",
    "sigma = 1.5\n",
    "lmbda = 1\n",
    "\n",
    "d = Xtrain.shape[0]\n",
    "n = Xtrain.shape[1]\n",
    "T = 100\n",
    "\n",
    "X = Xtrain.T\n",
    "w = np.zeros([d,n])"
   ]
  },
  {
   "cell_type": "code",
   "execution_count": 4,
   "metadata": {
    "collapsed": false
   },
   "outputs": [
    {
     "name": "stderr",
     "output_type": "stream",
     "text": [
      "100%|██████████| 100/100 [00:17<00:00,  5.87it/s]\n"
     ]
    }
   ],
   "source": [
    "## Estimate w[:,t] by maximizing the joint log-likelihood w[:,t]ith the EM algorithm.\n",
    "jllike = np.zeros(T)\n",
    "\n",
    "for t in tqdm(range(T)):\n",
    "    ## Step 1: Calculate Eq[].\n",
    "    E_data = X.dot(w[:,t-1]) + sigma * \\\n",
    "                (norm.pdf(-X.dot(w[:,t-1]) / sigma) / (ytrain - norm.cdf(-X.dot(w[:,t-1]) / sigma)))\n",
    "\n",
    "    ## Step 2: Update w[:,t].\n",
    "    sum_1 = np.zeros([d,d])\n",
    "    sum_2 = np.zeros_like(w[:,t])\n",
    "\n",
    "    for i in range(n):\n",
    "        sum_1 += np.outer(X[i, :], X[i, :])\n",
    "        sum_2 += np.multiply(X[i, :], E_data[:, i])\n",
    "\n",
    "    elem_1 = np.linalg.inv(lmbda * np.identity(d) + (1/sigma**2) * sum_1)\n",
    "    elem_2 = (1/sigma**2) * sum_2\n",
    "\n",
    "    w[:,t] = elem_1.dot(elem_2)\n",
    "\n",
    "    ## Step 3: Calculate the joint likelihood.\n",
    "    jllike[t] = d/2 * np.log(lmbda / (2 * np.pi)) \\\n",
    "        - (lmbda / 2) * w[:,t].T.dot(w[:,t]) \\\n",
    "        + np.sum(np.multiply(ytrain, np.log(norm.cdf(X.dot(w[:,t]) / sigma)))) \\\n",
    "        + np.sum(np.multiply(1 - ytrain, np.log(1 - norm.cdf(X.dot(w[:,t]) / sigma))))"
   ]
  },
  {
   "cell_type": "markdown",
   "metadata": {},
   "source": [
    "### b) Plot joint likelihood as function of *t*."
   ]
  },
  {
   "cell_type": "code",
   "execution_count": 5,
   "metadata": {
    "collapsed": false
   },
   "outputs": [
    {
     "data": {
      "image/png": "[encoded data removed]",
      "text/plain": [
       "<matplotlib.figure.Figure at 0x7fa4cc51f8d0>"
      ]
     },
     "metadata": {},
     "output_type": "display_data"
    }
   ],
   "source": [
    "plt.plot(jllike, color='black')\n",
    "plt.ylabel('Joint Log-Likelihood', size=15);\n",
    "plt.xlabel('t', size=15);\n",
    "plt.title('Join Log Likelihood per Iteration', size = 20);"
   ]
  },
  {
   "cell_type": "markdown",
   "metadata": {},
   "source": [
    "### c) Making predictions and the confusion matrix."
   ]
  },
  {
   "cell_type": "code",
   "execution_count": 6,
   "metadata": {
    "collapsed": false
   },
   "outputs": [
    {
     "name": "stdout",
     "output_type": "stream",
     "text": [
      "Test Accuracy: 93.84%\n",
      "Test Accuracy: 93.52%\n"
     ]
    }
   ],
   "source": [
    "X2 = Xtest.T\n",
    "\n",
    "## First we evaluate on training set...\n",
    "yprobs = norm.cdf((1/sigma) * X.dot(w[:,t]))\n",
    "ypred = yprobs > 0.5\n",
    "print 'Test Accuracy: %.2f%%' %(np.sum(ypred == ytrain)/float(ytrain.shape[1])*100)\n",
    "\n",
    "## And then in test.\n",
    "yprobs = norm.cdf((1/sigma) * X2.dot(w[:,t]))\n",
    "ypred = yprobs > 0.5\n",
    "print 'Test Accuracy: %.2f%%' %(np.sum(ypred == ytest)/float(ytest.shape[1])*100)"
   ]
  },
  {
   "cell_type": "code",
   "execution_count": 7,
   "metadata": {
    "collapsed": false
   },
   "outputs": [
    {
     "name": "stdout",
     "output_type": "stream",
     "text": [
      "Confusion Matrix\n"
     ]
    },
    {
     "data": {
      "text/html": [
       "<div>\n",
       "<table border=\"1\" class=\"dataframe\">\n",
       "  <thead>\n",
       "    <tr style=\"text-align: right;\">\n",
       "      <th></th>\n",
       "      <th>0</th>\n",
       "      <th>1</th>\n",
       "    </tr>\n",
       "  </thead>\n",
       "  <tbody>\n",
       "    <tr>\n",
       "      <th>0</th>\n",
       "      <td>930</td>\n",
       "      <td>52</td>\n",
       "    </tr>\n",
       "    <tr>\n",
       "      <th>1</th>\n",
       "      <td>77</td>\n",
       "      <td>932</td>\n",
       "    </tr>\n",
       "  </tbody>\n",
       "</table>\n",
       "</div>"
      ],
      "text/plain": [
       "     0    1\n",
       "0  930   52\n",
       "1   77  932"
      ]
     },
     "execution_count": 7,
     "metadata": {},
     "output_type": "execute_result"
    }
   ],
   "source": [
    "print 'Confusion Matrix'\n",
    "pd.DataFrame(confusion_matrix(ytest[0], ypred))"
   ]
  },
  {
   "cell_type": "markdown",
   "metadata": {},
   "source": [
    "### d) Misclassified digits."
   ]
  },
  {
   "cell_type": "code",
   "execution_count": 8,
   "metadata": {
    "collapsed": false
   },
   "outputs": [],
   "source": [
    "errors = np.where(ytest[0] != ypred)[0]\n",
    "\n",
    "img_d1 = X2[errors[0], :]\n",
    "img_d2 = X2[errors[1], :]\n",
    "img_d3 = X2[errors[2], :]\n",
    "\n",
    "img1 = np.dot(img_d1, data['Q'].T).reshape(28,28)\n",
    "img2 = np.dot(img_d2, data['Q'].T).reshape(28,28)\n",
    "img3 = np.dot(img_d3, data['Q'].T).reshape(28,28)"
   ]
  },
  {
   "cell_type": "code",
   "execution_count": 9,
   "metadata": {
    "collapsed": false
   },
   "outputs": [
    {
     "data": {
      "image/png": "[encoded data removed]",
      "text/plain": [
       "<matplotlib.figure.Figure at 0x7fa4cc23e150>"
      ]
     },
     "metadata": {},
     "output_type": "display_data"
    }
   ],
   "source": [
    "f, (ax1, ax2, ax3) = plt.subplots(1, 3, sharey=True, figsize=(14,4))\n",
    "ax1.matshow(img1)\n",
    "ax1.set_title(yprobs[errors[0]])\n",
    "ax1.axis('off')\n",
    "ax2.matshow(img2)\n",
    "ax2.set_title(yprobs[errors[1]])\n",
    "ax2.axis('off')\n",
    "ax3.matshow(img3)\n",
    "ax3.set_title(yprobs[errors[2]])\n",
    "ax3.axis('off');"
   ]
  },
  {
   "cell_type": "markdown",
   "metadata": {},
   "source": [
    "### e) Ambiguous predictions."
   ]
  },
  {
   "cell_type": "code",
   "execution_count": 10,
   "metadata": {
    "collapsed": false
   },
   "outputs": [],
   "source": [
    "## Images with prediction closest to 0.5.\n",
    "closest = sorted(range(len(yprobs)), key = lambda k: abs(yprobs[k] - 0.5))\n",
    "\n",
    "img_m_d1 = X2[closest[0], :]\n",
    "img_m_d2 = X2[closest[1], :]\n",
    "img_m_d3 = X2[closest[2], :]\n",
    "\n",
    "img_m1 = np.dot(img_m_d1, data['Q'].T).reshape(28,28)\n",
    "img_m2 = np.dot(img_m_d2, data['Q'].T).reshape(28,28)\n",
    "img_m3 = np.dot(img_m_d3, data['Q'].T).reshape(28,28)"
   ]
  },
  {
   "cell_type": "code",
   "execution_count": 11,
   "metadata": {
    "collapsed": false
   },
   "outputs": [
    {
     "data": {
      "image/png": "[encoded data removed]",
      "text/plain": [
       "<matplotlib.figure.Figure at 0x7fa4c87197d0>"
      ]
     },
     "metadata": {},
     "output_type": "display_data"
    }
   ],
   "source": [
    "f, (ax1, ax2, ax3) = plt.subplots(1, 3, sharey=True, figsize=(14,4))\n",
    "ax1.matshow(img_m1)\n",
    "ax1.set_title(yprobs[closest[0]])\n",
    "ax1.axis('off')\n",
    "ax2.matshow(img_m2)\n",
    "ax2.set_title(yprobs[closest[1]])\n",
    "ax2.axis('off')\n",
    "ax3.matshow(img_m3)\n",
    "ax3.set_title(yprobs[closest[2]])\n",
    "ax3.axis('off');"
   ]
  },
  {
   "cell_type": "markdown",
   "metadata": {},
   "source": [
    "### f) Reconstructing the vector $w$"
   ]
  },
  {
   "cell_type": "code",
   "execution_count": 12,
   "metadata": {
    "collapsed": false
   },
   "outputs": [],
   "source": [
    "img_w_d1 = w[:,0]\n",
    "img_w_d2 = w[:,4]\n",
    "img_w_d3 = w[:,9]\n",
    "img_w_d4 = w[:,24]\n",
    "img_w_d5 = w[:,49]\n",
    "img_w_d6 = w[:,99]\n",
    "\n",
    "img_w1 = np.dot(img_w_d1, data['Q'].T).reshape(28,28)\n",
    "img_w2 = np.dot(img_w_d2, data['Q'].T).reshape(28,28)\n",
    "img_w3 = np.dot(img_w_d3, data['Q'].T).reshape(28,28)\n",
    "img_w4 = np.dot(img_w_d4, data['Q'].T).reshape(28,28)\n",
    "img_w5 = np.dot(img_w_d5, data['Q'].T).reshape(28,28)\n",
    "img_w6 = np.dot(img_w_d6, data['Q'].T).reshape(28,28)"
   ]
  },
  {
   "cell_type": "code",
   "execution_count": 13,
   "metadata": {
    "collapsed": false,
    "scrolled": false
   },
   "outputs": [
    {
     "data": {
      "image/png": "[encoded data removed]",
      "text/plain": [
       "<matplotlib.figure.Figure at 0x7fa4c85b3690>"
      ]
     },
     "metadata": {},
     "output_type": "display_data"
    }
   ],
   "source": [
    "f, ((ax1, ax2, ax3), (ax4, ax5, ax6)) = plt.subplots(2, 3, sharey=True, figsize=(14,8))\n",
    "ax1.matshow(img_w1)\n",
    "ax1.set_title('W_t = 1')\n",
    "ax1.axis('off')\n",
    "ax2.matshow(img_w2)\n",
    "ax2.set_title('W_t = 5')\n",
    "ax2.axis('off')\n",
    "ax3.matshow(img_w3)\n",
    "ax3.set_title('W_t = 10')\n",
    "ax3.axis('off')\n",
    "\n",
    "ax4.matshow(img_w4)\n",
    "ax4.set_title('W_t = 25')\n",
    "ax4.axis('off')\n",
    "ax5.matshow(img_w5)\n",
    "ax5.set_title('W_t = 50')\n",
    "ax5.axis('off')\n",
    "ax6.matshow(img_w6)\n",
    "ax6.set_title('W_t = 100')\n",
    "ax6.axis('off');"
   ]
  }
 ],
 "metadata": {
  "kernelspec": {
   "display_name": "Python 2",
   "language": "python",
   "name": "python2"
  },
  "language_info": {
   "codemirror_mode": {
    "name": "ipython",
    "version": 2
   },
   "file_extension": ".py",
   "mimetype": "text/x-python",
   "name": "python",
   "nbconvert_exporter": "python",
   "pygments_lexer": "ipython2",
   "version": "2.7.12"
  }
 },
 "nbformat": 4,
 "nbformat_minor": 0
}
