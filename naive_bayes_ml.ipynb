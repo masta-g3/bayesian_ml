{
 "cells": [
  {
   "cell_type": "markdown",
   "metadata": {},
   "source": [
    "# Bayesian Machine Learning - HW1\n",
    "mr3523"
   ]
  },
  {
   "cell_type": "markdown",
   "metadata": {},
   "source": [
    "## Naive Bayes Implementation"
   ]
  },
  {
   "cell_type": "code",
   "execution_count": 35,
   "metadata": {
    "collapsed": true
   },
   "outputs": [],
   "source": [
    "import numpy as np\n",
    "import pandas as pd\n",
    "import matplotlib.pyplot as plt\n",
    "import matplotlib\n",
    "import scipy.io as sio\n",
    "from sklearn.metrics import confusion_matrix\n",
    "\n",
    "%matplotlib inline"
   ]
  },
  {
   "cell_type": "code",
   "execution_count": 2,
   "metadata": {
    "collapsed": true
   },
   "outputs": [],
   "source": [
    "## Load data.\n",
    "data = sio.loadmat('data/mnist_mat.mat')\n",
    "ytrain = data['ytrain']\n",
    "Xtrain = data['Xtrain']\n",
    "ytest = data['ytest']\n",
    "Xtest = data['Xtest']\n",
    "\n",
    "## Define parameters.\n",
    "a = 1; b = 1; c = 1; d = 1; e = 1; f = 1\n",
    "d = 1/a"
   ]
  },
  {
   "cell_type": "code",
   "execution_count": 3,
   "metadata": {
    "collapsed": true
   },
   "outputs": [],
   "source": [
    "## Prior function.\n",
    "def y_prior(y_s, e, f, ytrain):\n",
    "    ind = np.sum(ytrain == y_s)\n",
    "    N = len(ytrain[0])\n",
    "    prior = float(e + ind)/(N + e + f)\n",
    "    return prior"
   ]
  },
  {
   "cell_type": "raw",
   "metadata": {},
   "source": [
    "## Likelihood function.\n",
    "def log_likelihood(x_s, y_s, b, c, d, Xtrain, ytrain):\n",
    "    \n",
    "    ## First term (numerator).\n",
    "    N = Xtrain[np.where(ytrain == y_s)].shape[0]\n",
    "    alpha1 = N/2. + b + 0.5\n",
    "    n1 = alpha - 1\n",
    "    numerator = n1 * np.log(n) - n1 + np.log(n*(1+4*n*(1+2*n)))/6 + np.log(np.pi)/2\n",
    "    \n",
    "    ## Second term (denominator).\n",
    "    dat = Xtrain[:, np.where(ytrain[0] == y_s)].T\n",
    "    xi_sum = np.sum(dat, axis = 0)\n",
    "    beta = ((x_s**2 + xi_sum**2) / 2) - (x_s + xi_sum)**2 / (2*(1 + N + d)) + c\n",
    "    denominator = alpha * np.sum(np.log(beta))\n",
    "    \n",
    "    ## Output.\n",
    "    result = dat.shape[2] * (numerator - 0.5*np.log(1 + N + d)) - denominator\n",
    "    return result"
   ]
  },
  {
   "cell_type": "code",
   "execution_count": 22,
   "metadata": {
    "collapsed": true
   },
   "outputs": [],
   "source": [
    "## Likelihood function.\n",
    "def log_likelihood(x_s, y_s, b, c, d, Xtrain, ytrain):\n",
    "    \n",
    "    ## Data and sample statistics.\n",
    "    dat = Xtrain[:, np.where(ytrain[0] == y_s)].T\n",
    "    s = np.sqrt(np.var(dat, axis = 0))\n",
    "    x_mean = np.mean(dat, axis = 0)\n",
    "    \n",
    "    ## First term - numerator.\n",
    "    N = Xtrain[np.where(ytrain == y_s)].shape[0]\n",
    "    alpha1 = N/2. + b + 0.5\n",
    "    n1 = alpha1 - 1\n",
    "    num1 = n1 * np.log(n1) - n1 + np.log(n1*(1+4*n1*(1+2*n1)))/6 + np.log(np.pi)/2\n",
    "    \n",
    "    ## Second term - numerator.\n",
    "    num2 = 0.5 * np.log(d + N)\n",
    "    \n",
    "    ## Third term - numerator.\n",
    "    num3 = (N/2 + b) * np.log(c + 0.5 * (N * s + (d * N * x_mean**2) / (N + d)))\n",
    "    \n",
    "    ## Combining them.\n",
    "    numerator = num1 + num2 + num3\n",
    "    \n",
    "    ## First term - denominator.\n",
    "    alpha2 = N/2. + b\n",
    "    n2 = alpha2 - 1\n",
    "    dem1 = n2 * np.log(n2) - n2 + np.log(n2*(1+4*n2*(1+2*n2)))/6 + np.log(np.pi)/2\n",
    "    \n",
    "    ## Second term - denominator.\n",
    "    dem2 = 0.5 * np.log(2 * np.pi * (1 + N + d))\n",
    "    \n",
    "    ## Third term - denominator.\n",
    "    xi_sum = np.sum(dat, axis = 0)\n",
    "    beta = ((x_s**2 + xi_sum**2) / 2) - (x_s + xi_sum)**2 / (2*(1 + N + d)) + c\n",
    "    #dem3 = alpha1 * np.sum(np.log(beta))\n",
    "    dem3 = alpha1 * np.log(beta)\n",
    "    \n",
    "    ## Combining them.\n",
    "    denominator = dem1 + dem2 + dem3\n",
    "    \n",
    "    ## Output.\n",
    "    result = np.sum(numerator - denominator)\n",
    "    return result"
   ]
  },
  {
   "cell_type": "code",
   "execution_count": 44,
   "metadata": {
    "collapsed": true
   },
   "outputs": [],
   "source": [
    "def naive_bayes(x_s, b, c, d, e, f, Xtrain, ytrain):\n",
    "    prob0 = log_likelihood(x_s, 0, b, c, d, Xtrain, ytrain) + np.log(y_prior(0, e, f, ytrain))\n",
    "    prob1 = log_likelihood(x_s, 1, b, c, d, Xtrain, ytrain) + np.log(y_prior(1, e, f, ytrain))\n",
    "    return prob1 < prob0"
   ]
  },
  {
   "cell_type": "code",
   "execution_count": 45,
   "metadata": {
    "collapsed": false
   },
   "outputs": [],
   "source": [
    "ypred = []\n",
    "for i in range(ytest.shape[1]):\n",
    "    ypred.append(int(naive_bayes(Xtest[:, i], b, c, d, e, f, Xtrain, ytrain)))"
   ]
  },
  {
   "cell_type": "markdown",
   "metadata": {},
   "source": [
    "## Confusion Matrix"
   ]
  },
  {
   "cell_type": "code",
   "execution_count": 46,
   "metadata": {
    "collapsed": false
   },
   "outputs": [
    {
     "data": {
      "text/plain": [
       "array([[   0,  982],\n",
       "       [   0, 1009]])"
      ]
     },
     "execution_count": 46,
     "metadata": {},
     "output_type": "execute_result"
    }
   ],
   "source": [
    "confusion_matrix(ytest[0], ypred)"
   ]
  },
  {
   "cell_type": "markdown",
   "metadata": {},
   "source": [
    "## Misclassified Digits"
   ]
  },
  {
   "cell_type": "code",
   "execution_count": 128,
   "metadata": {
    "collapsed": false
   },
   "outputs": [
    {
     "ename": "ValueError",
     "evalue": "total size of new array must be unchanged",
     "output_type": "error",
     "traceback": [
      "\u001b[1;31m---------------------------------------------------------------------------\u001b[0m",
      "\u001b[1;31mValueError\u001b[0m                                Traceback (most recent call last)",
      "\u001b[1;32m<ipython-input-128-a6d90b1d5ec5>\u001b[0m in \u001b[0;36m<module>\u001b[1;34m()\u001b[0m\n\u001b[1;32m----> 1\u001b[1;33m \u001b[0mimg1\u001b[0m \u001b[1;33m=\u001b[0m \u001b[0mnp\u001b[0m\u001b[1;33m.\u001b[0m\u001b[0mdot\u001b[0m\u001b[1;33m(\u001b[0m\u001b[0mXtest\u001b[0m\u001b[1;33m[\u001b[0m\u001b[1;33m:\u001b[0m\u001b[1;33m,\u001b[0m \u001b[0mnp\u001b[0m\u001b[1;33m.\u001b[0m\u001b[0mwhere\u001b[0m\u001b[1;33m(\u001b[0m\u001b[0mytest\u001b[0m\u001b[1;33m[\u001b[0m\u001b[1;36m0\u001b[0m\u001b[1;33m]\u001b[0m \u001b[1;33m==\u001b[0m \u001b[1;36m0\u001b[0m\u001b[1;33m)\u001b[0m\u001b[1;33m]\u001b[0m\u001b[1;33m.\u001b[0m\u001b[0mreshape\u001b[0m\u001b[1;33m(\u001b[0m\u001b[1;36m15\u001b[0m\u001b[1;33m,\u001b[0m \u001b[1;36m982\u001b[0m\u001b[1;33m)\u001b[0m\u001b[1;33m[\u001b[0m\u001b[1;33m:\u001b[0m\u001b[1;33m,\u001b[0m\u001b[1;36m0\u001b[0m\u001b[1;33m]\u001b[0m\u001b[1;33m,\u001b[0m \u001b[0mdata\u001b[0m\u001b[1;33m[\u001b[0m\u001b[1;34m'Q'\u001b[0m\u001b[1;33m]\u001b[0m\u001b[1;33m[\u001b[0m\u001b[1;36m0\u001b[0m\u001b[1;33m]\u001b[0m\u001b[1;33m.\u001b[0m\u001b[0mT\u001b[0m\u001b[1;33m)\u001b[0m\u001b[1;33m.\u001b[0m\u001b[0mreshape\u001b[0m\u001b[1;33m(\u001b[0m\u001b[1;36m28\u001b[0m\u001b[1;33m,\u001b[0m\u001b[1;36m28\u001b[0m\u001b[1;33m)\u001b[0m\u001b[1;33m\u001b[0m\u001b[0m\n\u001b[0m\u001b[0;32m      2\u001b[0m \u001b[0mimg2\u001b[0m \u001b[1;33m=\u001b[0m \u001b[0mnp\u001b[0m\u001b[1;33m.\u001b[0m\u001b[0mdot\u001b[0m\u001b[1;33m(\u001b[0m\u001b[0mXtest\u001b[0m\u001b[1;33m[\u001b[0m\u001b[1;33m:\u001b[0m\u001b[1;33m,\u001b[0m \u001b[0mnp\u001b[0m\u001b[1;33m.\u001b[0m\u001b[0mwhere\u001b[0m\u001b[1;33m(\u001b[0m\u001b[0mytest\u001b[0m\u001b[1;33m[\u001b[0m\u001b[1;36m0\u001b[0m\u001b[1;33m]\u001b[0m \u001b[1;33m==\u001b[0m \u001b[1;36m0\u001b[0m\u001b[1;33m)\u001b[0m\u001b[1;33m]\u001b[0m\u001b[1;33m.\u001b[0m\u001b[0mreshape\u001b[0m\u001b[1;33m(\u001b[0m\u001b[1;36m15\u001b[0m\u001b[1;33m,\u001b[0m \u001b[1;36m982\u001b[0m\u001b[1;33m)\u001b[0m\u001b[1;33m[\u001b[0m\u001b[1;33m:\u001b[0m\u001b[1;33m,\u001b[0m\u001b[1;36m0\u001b[0m\u001b[1;33m]\u001b[0m\u001b[1;33m,\u001b[0m \u001b[0mdata\u001b[0m\u001b[1;33m[\u001b[0m\u001b[1;34m'Q'\u001b[0m\u001b[1;33m]\u001b[0m\u001b[1;33m.\u001b[0m\u001b[0mT\u001b[0m\u001b[1;33m)\u001b[0m\u001b[1;33m.\u001b[0m\u001b[0mreshape\u001b[0m\u001b[1;33m(\u001b[0m\u001b[1;36m28\u001b[0m\u001b[1;33m,\u001b[0m\u001b[1;36m28\u001b[0m\u001b[1;33m)\u001b[0m\u001b[1;33m\u001b[0m\u001b[0m\n\u001b[0;32m      3\u001b[0m \u001b[0mimg3\u001b[0m \u001b[1;33m=\u001b[0m \u001b[0mnp\u001b[0m\u001b[1;33m.\u001b[0m\u001b[0mdot\u001b[0m\u001b[1;33m(\u001b[0m\u001b[0mXtest\u001b[0m\u001b[1;33m[\u001b[0m\u001b[1;33m:\u001b[0m\u001b[1;33m,\u001b[0m \u001b[0mnp\u001b[0m\u001b[1;33m.\u001b[0m\u001b[0mwhere\u001b[0m\u001b[1;33m(\u001b[0m\u001b[0mytest\u001b[0m\u001b[1;33m[\u001b[0m\u001b[1;36m0\u001b[0m\u001b[1;33m]\u001b[0m \u001b[1;33m==\u001b[0m \u001b[1;36m0\u001b[0m\u001b[1;33m)\u001b[0m\u001b[1;33m]\u001b[0m\u001b[1;33m.\u001b[0m\u001b[0mreshape\u001b[0m\u001b[1;33m(\u001b[0m\u001b[1;36m15\u001b[0m\u001b[1;33m,\u001b[0m \u001b[1;36m982\u001b[0m\u001b[1;33m)\u001b[0m\u001b[1;33m[\u001b[0m\u001b[1;33m:\u001b[0m\u001b[1;33m,\u001b[0m\u001b[1;36m0\u001b[0m\u001b[1;33m]\u001b[0m\u001b[1;33m,\u001b[0m \u001b[0mdata\u001b[0m\u001b[1;33m[\u001b[0m\u001b[1;34m'Q'\u001b[0m\u001b[1;33m]\u001b[0m\u001b[1;33m.\u001b[0m\u001b[0mT\u001b[0m\u001b[1;33m)\u001b[0m\u001b[1;33m.\u001b[0m\u001b[0mreshape\u001b[0m\u001b[1;33m(\u001b[0m\u001b[1;36m28\u001b[0m\u001b[1;33m,\u001b[0m\u001b[1;36m28\u001b[0m\u001b[1;33m)\u001b[0m\u001b[1;33m\u001b[0m\u001b[0m\n",
      "\u001b[1;31mValueError\u001b[0m: total size of new array must be unchanged"
     ]
    }
   ],
   "source": [
    "img1 = np.dot(Xtest[:, np.where(ytest[0] == 0)].reshape(15, 982)[:,0], data['Q'].T).reshape(28,28)\n",
    "img2 = np.dot(Xtest[:, np.where(ytest[0] == 0)].reshape(15, 982)[:,0], data['Q'].T).reshape(28,28)\n",
    "img3 = np.dot(Xtest[:, np.where(ytest[0] == 0)].reshape(15, 982)[:,0], data['Q'].T).reshape(28,28)"
   ]
  },
  {
   "cell_type": "code",
   "execution_count": 125,
   "metadata": {
    "collapsed": false
   },
   "outputs": [
    {
     "data": {
      "image/png": "[encoded data removed]",
      "text/plain": [
       "<matplotlib.figure.Figure at 0x7fa9092f72d0>"
      ]
     },
     "metadata": {},
     "output_type": "display_data"
    }
   ],
   "source": [
    "plt.matshow(img1);"
   ]
  },
  {
   "cell_type": "code",
   "execution_count": 126,
   "metadata": {
    "collapsed": false
   },
   "outputs": [
    {
     "data": {
      "image/png": "[encoded data removed]",
      "text/plain": [
       "<matplotlib.figure.Figure at 0x7fa9092c4710>"
      ]
     },
     "metadata": {},
     "output_type": "display_data"
    }
   ],
   "source": [
    "plt.matshow(img2);"
   ]
  },
  {
   "cell_type": "code",
   "execution_count": 127,
   "metadata": {
    "collapsed": false
   },
   "outputs": [
    {
     "data": {
      "image/png": "[encoded data removed]",
      "text/plain": [
       "<matplotlib.figure.Figure at 0x7fa909176b50>"
      ]
     },
     "metadata": {},
     "output_type": "display_data"
    }
   ],
   "source": [
    "plt.matshow(img3);"
   ]
  },
  {
   "cell_type": "code",
   "execution_count": null,
   "metadata": {
    "collapsed": true
   },
   "outputs": [],
   "source": []
  }
 ],
 "metadata": {
  "kernelspec": {
   "display_name": "Python 2",
   "language": "python",
   "name": "python2"
  },
  "language_info": {
   "codemirror_mode": {
    "name": "ipython",
    "version": 2
   },
   "file_extension": ".py",
   "mimetype": "text/x-python",
   "name": "python",
   "nbconvert_exporter": "python",
   "pygments_lexer": "ipython2",
   "version": "2.7.12"
  }
 },
 "nbformat": 4,
 "nbformat_minor": 0
}
